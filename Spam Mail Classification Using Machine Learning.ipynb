{
 "cells": [
  {
   "cell_type": "markdown",
   "id": "ae940aba",
   "metadata": {},
   "source": [
    "# Spam Mail Classification Using Machine Learning"
   ]
  },
  {
   "cell_type": "markdown",
   "id": "9c86b04f",
   "metadata": {},
   "source": [
    "## Introduction"
   ]
  },
  {
   "cell_type": "markdown",
   "id": "5ca55ba7",
   "metadata": {},
   "source": [
    "With the rise of internet and ease of access to computing devices, spam mail has become extremely common. While in most cases, it might be another unwanted annoying notification, some spam may be a security risk. Often scammers send emails acting as other entities in order to gain access to users' personal information (bank account details, address, and SSN, to name a few). \n",
    "\n",
    "People who are not tech-savvy may fall prey to these devious techniques, making a spam mail filter crucial to protect such users."
   ]
  },
  {
   "cell_type": "code",
   "execution_count": 36,
   "id": "67ef7e08",
   "metadata": {},
   "outputs": [],
   "source": [
    "# Importing libraries\n",
    "import pandas as pd\n",
    "import numpy as np\n",
    "from sklearn.model_selection import train_test_split\n",
    "from sklearn.feature_extraction.text import TfidfVectorizer as tf\n",
    "from sklearn.linear_model import LogisticRegression\n",
    "from sklearn.metrics import accuracy_score"
   ]
  },
  {
   "cell_type": "markdown",
   "id": "365697ef",
   "metadata": {},
   "source": [
    "## Data Preprocessing and Exploratory Data Analysis"
   ]
  },
  {
   "cell_type": "code",
   "execution_count": 17,
   "id": "7b6ac89a",
   "metadata": {},
   "outputs": [
    {
     "name": "stdout",
     "output_type": "stream",
     "text": [
      "  Category                                            Message\n",
      "0      ham  Go until jurong point, crazy.. Available only ...\n",
      "1      ham                      Ok lar... Joking wif u oni...\n",
      "2     spam  Free entry in 2 a wkly comp to win FA Cup fina...\n",
      "3      ham  U dun say so early hor... U c already then say...\n",
      "4      ham  Nah I don't think he goes to usf, he lives aro...\n"
     ]
    }
   ],
   "source": [
    "# Loading the data\n",
    "mail = pd.read_csv(\"mail_data.csv\")\n",
    "\n",
    "# Let's see what the first 5 rows look like\n",
    "print(mail.head())"
   ]
  },
  {
   "cell_type": "code",
   "execution_count": 18,
   "id": "1da6b421",
   "metadata": {},
   "outputs": [
    {
     "name": "stdout",
     "output_type": "stream",
     "text": [
      "  Category                                            Message\n",
      "0      ham  Go until jurong point, crazy.. Available only ...\n",
      "1      ham                      Ok lar... Joking wif u oni...\n",
      "2     spam  Free entry in 2 a wkly comp to win FA Cup fina...\n",
      "3      ham  U dun say so early hor... U c already then say...\n",
      "4      ham  Nah I don't think he goes to usf, he lives aro...\n"
     ]
    },
    {
     "data": {
      "text/plain": [
       "(5572, 2)"
      ]
     },
     "execution_count": 18,
     "metadata": {},
     "output_type": "execute_result"
    }
   ],
   "source": [
    "# Let's clean the data by removing null data\n",
    "clean_mail = mail.where(pd.notnull(mail), '')\n",
    "print(clean_mail.head())\n",
    "\n",
    "# Checking dimensions of dataset\n",
    "clean_mail.shape"
   ]
  },
  {
   "cell_type": "code",
   "execution_count": 28,
   "id": "6e339c85",
   "metadata": {},
   "outputs": [],
   "source": [
    "# Replacing spam and ham with numerical values (spam = 0, ham = 1)\n",
    "clean_mail.loc[clean_mail[\"Category\"] == \"spam\", \"Category\",] = 0\n",
    "clean_mail.loc[clean_mail[\"Category\"] == \"ham\", \"Category\",] = 1"
   ]
  },
  {
   "cell_type": "code",
   "execution_count": 31,
   "id": "f50717e5",
   "metadata": {},
   "outputs": [
    {
     "name": "stdout",
     "output_type": "stream",
     "text": [
      "0       Go until jurong point, crazy.. Available only ...\n",
      "1                           Ok lar... Joking wif u oni...\n",
      "2       Free entry in 2 a wkly comp to win FA Cup fina...\n",
      "3       U dun say so early hor... U c already then say...\n",
      "4       Nah I don't think he goes to usf, he lives aro...\n",
      "                              ...                        \n",
      "5567    This is the 2nd time we have tried 2 contact u...\n",
      "5568                 Will ü b going to esplanade fr home?\n",
      "5569    Pity, * was in mood for that. So...any other s...\n",
      "5570    The guy did some bitching but I acted like i'd...\n",
      "5571                           Rofl. Its true to its name\n",
      "Name: Message, Length: 5572, dtype: object 0       1\n",
      "1       1\n",
      "2       0\n",
      "3       1\n",
      "4       1\n",
      "       ..\n",
      "5567    0\n",
      "5568    1\n",
      "5569    1\n",
      "5570    1\n",
      "5571    1\n",
      "Name: Category, Length: 5572, dtype: object\n"
     ]
    }
   ],
   "source": [
    "# Separating label from message \n",
    "X = clean_mail[\"Message\"]\n",
    "y = clean_mail[\"Category\"]"
   ]
  },
  {
   "cell_type": "code",
   "execution_count": 33,
   "id": "322b0b2c",
   "metadata": {},
   "outputs": [
    {
     "name": "stdout",
     "output_type": "stream",
     "text": [
      "(4457,) (1115,)\n"
     ]
    }
   ],
   "source": [
    "# Creating a training and test split\n",
    "X_train, X_test, y_train, y_test = train_test_split(X, y, test_size = 0.2, stratify = y, random_state = 42)\n",
    "\n",
    "print(X_train.shape, X_test.shape)"
   ]
  },
  {
   "cell_type": "code",
   "execution_count": 51,
   "id": "3c6b6073",
   "metadata": {},
   "outputs": [
    {
     "name": "stdout",
     "output_type": "stream",
     "text": [
      "  (0, 1713)\t0.7071067811865476\n",
      "  (0, 2392)\t0.7071067811865476\n",
      "  (1, 5241)\t0.4375307310285687\n",
      "  (1, 6959)\t0.28353533329007485\n",
      "  (1, 7160)\t0.5436306308668579\n",
      "  (1, 6539)\t0.5043342820364712\n",
      "  (1, 7400)\t0.4222407409615414\n",
      "  (2, 5832)\t0.44558977651701576\n",
      "  (2, 4721)\t0.47479780441738884\n",
      "  (2, 5801)\t0.4979815204239224\n",
      "  (2, 2982)\t0.4979815204239224\n",
      "  (2, 7421)\t0.28292332285709515\n",
      "  (3, 5831)\t1.0\n",
      "  (4, 4738)\t0.3204169987043922\n",
      "  (4, 1583)\t0.3549147356597047\n",
      "  (4, 4157)\t0.5534651020906459\n",
      "  (4, 2788)\t0.5342906086326665\n",
      "  (4, 3177)\t0.4237669213702235\n",
      "  (5, 4009)\t0.34391007706121646\n",
      "  (5, 7131)\t0.2506764475916244\n",
      "  (5, 2297)\t0.3741084487077238\n",
      "  (5, 5720)\t0.4810359172341316\n",
      "  (5, 6415)\t0.30653767941680865\n",
      "  (5, 1757)\t0.5045242316078323\n",
      "  (5, 7105)\t0.3146814949645023\n",
      "  :\t:\n",
      "  (4454, 4185)\t0.2922127971401536\n",
      "  (4454, 4416)\t0.2885854848504585\n",
      "  (4454, 3153)\t0.41710096601362584\n",
      "  (4454, 4103)\t0.41710096601362584\n",
      "  (4455, 6123)\t0.5957506815947425\n",
      "  (4455, 3887)\t0.6142237248000665\n",
      "  (4455, 4016)\t0.5175039529048374\n",
      "  (4456, 7219)\t0.25973976331677184\n",
      "  (4456, 2164)\t0.22697558906636764\n",
      "  (4456, 5187)\t0.239067870930992\n",
      "  (4456, 4413)\t0.21174111561174155\n",
      "  (4456, 4748)\t0.4126073933611757\n",
      "  (4456, 7128)\t0.2088986575661174\n",
      "  (4456, 3845)\t0.21839597854521223\n",
      "  (4456, 1714)\t0.23241300799752138\n",
      "  (4456, 2830)\t0.3884228296319269\n",
      "  (4456, 1671)\t0.21488330720174326\n",
      "  (4456, 2428)\t0.1770521937736526\n",
      "  (4456, 2153)\t0.1869010697465335\n",
      "  (4456, 2595)\t0.21174111561174155\n",
      "  (4456, 3190)\t0.17192706289627283\n",
      "  (4456, 2992)\t0.19964883374711717\n",
      "  (4456, 4818)\t0.19106922322596176\n",
      "  (4456, 4060)\t0.1396907473219684\n",
      "  (4456, 1283)\t0.1727223963395316\n"
     ]
    }
   ],
   "source": [
    "# Feature extraction — converting text into numerical values\n",
    "transformed = tf(min_df = 1, stop_words = \"english\", lowercase = True)\n",
    "\n",
    "\"\"\"The min_df argument is set to 1 for quality purposes. If a word only occurs once in the dataset, no score is assigned to it\"\"\" \n",
    "\n",
    "# Converting X_train and X_test to the transformed data\n",
    "X_train_transformed = transformed.fit_transform(X_train)\n",
    "X_test_transformed = transformed.transform(X_test)\n",
    "\n",
    "# Converting y_train and y_test as integers\n",
    "y_train = y_train.astype(\"int\")\n",
    "y_test = y_test.astype(\"int\")\n",
    "\n",
    "print(X_train_transformed)"
   ]
  },
  {
   "cell_type": "markdown",
   "id": "31011b08",
   "metadata": {},
   "source": [
    "## The Machine Learning Model"
   ]
  },
  {
   "cell_type": "code",
   "execution_count": 63,
   "id": "be4195ee",
   "metadata": {},
   "outputs": [
    {
     "name": "stdout",
     "output_type": "stream",
     "text": [
      "The training accuracy is 96.85887368184878\n"
     ]
    }
   ],
   "source": [
    "# Initiate logistic regression\n",
    "logreg = LogisticRegression()\n",
    "\n",
    "# Fit the model on the training values\n",
    "logreg.fit(X_train_transformed, y_train)\n",
    "\n",
    "# Evaluating the accuracy of the model\n",
    "training_predict = logreg.predict(X_train_transformed)\n",
    "training_acc = accuracy_score(y_train, training_predict)\n",
    "print(\"The training accuracy is \" +str(training_acc*100))"
   ]
  },
  {
   "cell_type": "code",
   "execution_count": 65,
   "id": "d6538f36",
   "metadata": {},
   "outputs": [
    {
     "name": "stdout",
     "output_type": "stream",
     "text": [
      "The training accuracy is 95.96412556053812\n"
     ]
    }
   ],
   "source": [
    "# Evaluating test accuracy\n",
    "test_predict = logreg.predict(X_test_transformed)\n",
    "test_acc = accuracy_score(y_test, test_predict)\n",
    "print(\"The training accuracy is \" +str(test_acc*100))"
   ]
  },
  {
   "cell_type": "code",
   "execution_count": 83,
   "id": "54297633",
   "metadata": {},
   "outputs": [
    {
     "name": "stdout",
     "output_type": "stream",
     "text": [
      "This is a spam mail\n"
     ]
    }
   ],
   "source": [
    "# Testing out the model\n",
    "input = [\"URGENT! You have won a 1 week FREE membership in our £100,000 Prize Jackpot! Txt the word: CLAIM to No: 81010 T&C www.dbuk.net LCCLTD POBOX 4403LDNW1A7RW18\"]\n",
    "\n",
    "# Convert text into numbers\n",
    "input_transformed = transformed.transform(input)\n",
    "\n",
    "# Predicting outcome\n",
    "predict = logreg.predict(input_transformed)\n",
    "\n",
    "if predict == 1:\n",
    "    print(\"This is a ham mail\")\n",
    "else:\n",
    "    print(\"This is a spam mail\")"
   ]
  }
 ],
 "metadata": {
  "kernelspec": {
   "display_name": "Python 3 (ipykernel)",
   "language": "python",
   "name": "python3"
  },
  "language_info": {
   "codemirror_mode": {
    "name": "ipython",
    "version": 3
   },
   "file_extension": ".py",
   "mimetype": "text/x-python",
   "name": "python",
   "nbconvert_exporter": "python",
   "pygments_lexer": "ipython3",
   "version": "3.9.12"
  }
 },
 "nbformat": 4,
 "nbformat_minor": 5
}
